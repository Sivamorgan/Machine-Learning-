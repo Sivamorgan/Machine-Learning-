{
 "cells": [
  {
   "attachments": {},
   "cell_type": "markdown",
   "metadata": {},
   "source": [
    "### 5.3 Programming Task: Digit recognition using CNNs"
   ]
  },
  {
   "cell_type": "code",
   "execution_count": 1,
   "metadata": {},
   "outputs": [],
   "source": [
    "import torch\n",
    "import torch.utils.data as Data\n",
    "import torch.nn as nn\n",
    "import torch.optim as optim\n",
    "import torch.nn.functional as F\n",
    "import numpy as np\n",
    "from torchvision import datasets, transforms\n",
    "from torchinfo import summary\n",
    "\n",
    "\n",
    "%matplotlib inline"
   ]
  },
  {
   "attachments": {},
   "cell_type": "markdown",
   "metadata": {},
   "source": [
    "i. Complete the code for the ConvNet class given below using the network description from supplement pdf."
   ]
  },
  {
   "cell_type": "code",
   "execution_count": 2,
   "metadata": {},
   "outputs": [],
   "source": [
    "class ConvNet(nn.Module):\n",
    "    def __init__(self,input_shape):\n",
    "        super(ConvNet, self).__init__()\n",
    "        self.conv1 = nn.Conv2d(input_shape[0], 20, (5, 5))\n",
    "        self.maxpool=nn.MaxPool2d(2, 2)\n",
    "        self.relu=nn.ReLU()\n",
    "        self.fc1=nn.Linear(20*12*12, 100)\n",
    "        self.fc2=nn.Linear(100, 10)\n",
    "\n",
    "\n",
    "    def forward(self, x):\n",
    "        x=self.relu(self.conv1(x))\n",
    "        x=self.maxpool(x)\n",
    "        x=x.view(-1,20*12*12)\n",
    "        x=self.relu(self.fc1(x))\n",
    "        x=self.fc2(x)\n",
    "        return x"
   ]
  },
  {
   "cell_type": "markdown",
   "metadata": {},
   "source": [
    "Show the net."
   ]
  },
  {
   "cell_type": "code",
   "execution_count": 3,
   "metadata": {},
   "outputs": [
    {
     "name": "stdout",
     "output_type": "stream",
     "text": [
      "<bound method Module.parameters of ConvNet(\n",
      "  (conv1): Conv2d(1, 20, kernel_size=(5, 5), stride=(1, 1))\n",
      "  (maxpool): MaxPool2d(kernel_size=2, stride=2, padding=0, dilation=1, ceil_mode=False)\n",
      "  (relu): ReLU()\n",
      "  (fc1): Linear(in_features=2880, out_features=100, bias=True)\n",
      "  (fc2): Linear(in_features=100, out_features=10, bias=True)\n",
      ")>\n"
     ]
    }
   ],
   "source": [
    "net = ConvNet((1,28,28))\n",
    "print(net.parameters)"
   ]
  },
  {
   "attachments": {},
   "cell_type": "markdown",
   "metadata": {},
   "source": [
    "ii. Train the CNN and observe the difference in performance in comparison to the feed-forward\n",
    "network from the task 5.2."
   ]
  },
  {
   "cell_type": "code",
   "execution_count": 51,
   "metadata": {},
   "outputs": [],
   "source": [
    "# Set hyper parameters.\n",
    "batch_Size = 64\n",
    "num_Classes = 10\n",
    "learning_Rate= 0.01\n",
    "epochs=10\n",
    "train_transform=transforms.Compose([transforms.ToTensor(),transforms.Normalize((0.,),(1.,)),transforms.RandomAffine(5)])\n",
    "test_transform=transforms.Compose([transforms.ToTensor(),transforms.Normalize((0.,),(1.,))])"
   ]
  },
  {
   "cell_type": "code",
   "execution_count": 52,
   "metadata": {},
   "outputs": [],
   "source": [
    "# Load the MNIST data set.\n",
    "torch.manual_seed(0)\n",
    "train_data=datasets.MNIST('.',download=True,train=True,transform=train_transform)\n",
    "test_data=datasets.MNIST('.',download=True,train=False,transform=test_transform)\n",
    "train_loader=Data.DataLoader(train_data,batch_size=batch_Size,shuffle=True)\n",
    "test_loader=Data.DataLoader(test_data,batch_size=batch_Size,shuffle=True)"
   ]
  },
  {
   "cell_type": "code",
   "execution_count": 53,
   "metadata": {},
   "outputs": [],
   "source": [
    "# Set the loss function and the optimization criteria\n",
    "criterion=nn.CrossEntropyLoss()\n",
    "optimizer=optim.SGD(net.parameters(), lr=learning_Rate, momentum=0.9)"
   ]
  },
  {
   "cell_type": "code",
   "execution_count": 54,
   "metadata": {},
   "outputs": [
    {
     "name": "stdout",
     "output_type": "stream",
     "text": [
      "Starting epoch 1...\n",
      "Epoch [1/10], Loss: 0.0668\n",
      "Starting epoch 2...\n",
      "Epoch [2/10], Loss: 0.0348\n",
      "Starting epoch 3...\n",
      "Epoch [3/10], Loss: 0.0257\n",
      "Starting epoch 4...\n",
      "Epoch [4/10], Loss: 0.0193\n",
      "Starting epoch 5...\n",
      "Epoch [5/10], Loss: 0.0151\n",
      "Starting epoch 6...\n",
      "Epoch [6/10], Loss: 0.0130\n",
      "Starting epoch 7...\n",
      "Epoch [7/10], Loss: 0.0106\n",
      "Starting epoch 8...\n",
      "Epoch [8/10], Loss: 0.0090\n",
      "Starting epoch 9...\n",
      "Epoch [9/10], Loss: 0.0078\n",
      "Starting epoch 10...\n",
      "Epoch [10/10], Loss: 0.0060\n"
     ]
    }
   ],
   "source": [
    "# Run the main training loop\n",
    "torch.manual_seed(0)\n",
    "device = \"cuda\" if torch.cuda.is_available() else \"cpu\"\n",
    "net.to(device)\n",
    "training_loss=[]\n",
    "for epoch in range(epochs):\n",
    "    net.train()\n",
    "    print(f\"Starting epoch {epoch+1}...\")\n",
    "    running_loss=0.0\n",
    "    for images, labels in train_loader:\n",
    "        images, labels = images.to(device),labels.to(device)\n",
    "        predictions=net(images)\n",
    "        loss=criterion(predictions,labels)\n",
    "        optimizer.zero_grad()\n",
    "        loss.backward()\n",
    "        optimizer.step()\n",
    "        running_loss+=loss.item()\n",
    "    print(f'Epoch [{epoch+1}/{epochs}], Loss: {running_loss/len(train_loader):.4f}')\n",
    "    epoch_loss=running_loss/len(train_loader)\n",
    "    training_loss.append(epoch_loss)\n",
    "            \n"
   ]
  },
  {
   "cell_type": "code",
   "execution_count": 55,
   "metadata": {},
   "outputs": [
    {
     "name": "stdout",
     "output_type": "stream",
     "text": [
      "Accuracy on test set: 98.87%\n"
     ]
    }
   ],
   "source": [
    "# Run the testing loop\n",
    "torch.manual_seed(0)\n",
    "net.eval()\n",
    "correct=0\n",
    "total=0\n",
    "with torch.no_grad():\n",
    "    for images,labels in test_loader:\n",
    "        images, labels = images.to(device),labels.to(device)\n",
    "        outputs=net(images)\n",
    "        _, predicted=torch.max(outputs, 1)\n",
    "        total+=labels.size(0)\n",
    "        correct+=(predicted==labels).sum().item()\n",
    "accuracy = 100 * correct / total\n",
    "print(f'Accuracy on test set: {accuracy:.2f}%')  "
   ]
  },
  {
   "attachments": {},
   "cell_type": "markdown",
   "metadata": {},
   "source": [
    "iii. Calculate the number of learnable parameters and the output shape in each layer. Verify your\n",
    "answers with model summary. (Refer last cell of the tutorial notebook)"
   ]
  },
  {
   "cell_type": "markdown",
   "metadata": {},
   "source": [
    "Total No.of parameters(CNN)=Nout x (FxFxC)+Nout\n",
    "\n",
    "\n",
    "Total No.of parameters(FC)=(Nin x Nout)+Nout \n",
    "\n",
    "\n",
    "Layer_1=20*(5x5x1)+20=520\n",
    "\n",
    "Layer_2=No changes (Max pooling have no learnable parameters)\n",
    "\n",
    "Layer_3=((20x12x12)*100)+100=288,100\n",
    "\n",
    "Layer_4=(100*10)+10=1010\n",
    "\n",
    " Total Paramters=520+288,100+1010=289,630"
   ]
  },
  {
   "cell_type": "code",
   "execution_count": 4,
   "metadata": {},
   "outputs": [
    {
     "data": {
      "text/plain": [
       "==========================================================================================\n",
       "Layer (type:depth-idx)                   Output Shape              Param #\n",
       "==========================================================================================\n",
       "ConvNet                                  [1, 10]                   --\n",
       "├─Conv2d: 1-1                            [20, 24, 24]              520\n",
       "├─ReLU: 1-2                              [20, 24, 24]              --\n",
       "├─MaxPool2d: 1-3                         [20, 12, 12]              --\n",
       "├─Linear: 1-4                            [1, 100]                  288,100\n",
       "├─ReLU: 1-5                              [1, 100]                  --\n",
       "├─Linear: 1-6                            [1, 10]                   1,010\n",
       "==========================================================================================\n",
       "Total params: 289,630\n",
       "Trainable params: 289,630\n",
       "Non-trainable params: 0\n",
       "Total mult-adds (M): 0.54\n",
       "==========================================================================================\n",
       "Input size (MB): 0.00\n",
       "Forward/backward pass size (MB): 0.09\n",
       "Params size (MB): 1.16\n",
       "Estimated Total Size (MB): 1.25\n",
       "=========================================================================================="
      ]
     },
     "execution_count": 4,
     "metadata": {},
     "output_type": "execute_result"
    }
   ],
   "source": [
    "\n",
    "summary(net,(1,28,28))"
   ]
  },
  {
   "cell_type": "code",
   "execution_count": null,
   "metadata": {},
   "outputs": [],
   "source": []
  }
 ],
 "metadata": {
  "kernelspec": {
   "display_name": "env",
   "language": "python",
   "name": "python3"
  },
  "language_info": {
   "codemirror_mode": {
    "name": "ipython",
    "version": 3
   },
   "file_extension": ".py",
   "mimetype": "text/x-python",
   "name": "python",
   "nbconvert_exporter": "python",
   "pygments_lexer": "ipython3",
   "version": "3.10.13"
  }
 },
 "nbformat": 4,
 "nbformat_minor": 2
}
